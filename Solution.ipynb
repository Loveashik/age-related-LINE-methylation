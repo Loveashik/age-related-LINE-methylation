{
 "cells": [
  {
   "cell_type": "code",
   "execution_count": 2,
   "metadata": {},
   "outputs": [],
   "source": [
    "import pandas as pd\n",
    "import numpy as np\n",
    "from tqdm.notebook import tqdm\n",
    "from mysql.connector import connect, Error\n",
    "from math import ceil\n",
    "import wget\n",
    "import gzip\n",
    "import sys\n",
    "import os\n",
    "\n",
    "import matplotlib.pyplot as plt\n",
    "%matplotlib inline"
   ]
  },
  {
   "cell_type": "markdown",
   "metadata": {},
   "source": [
    "# Возрастные изменения метилирования и экспрессии в транспозонах\n",
    "\n",
    "### Цель:\n",
    "Построить таблицу метрики, показывающей процент метилирования CpG для всех доноров, усреднить по донорам для каждого LINE элемента и визуализировать\n",
    "\n",
    "### Задачи:\n",
    "* загрузить необходимые данные:\n",
    "    * из базы ucsc по координатам LINE элементов\n",
    "    * данные о частоте и глубине покрытия CpG\n",
    "* загрузить и предобработать данные\n",
    "* создать графу с указанием LINE, в который попадает каждый сайт\n",
    "* для каждого LINE агрегировать всех его доноров по покрытиям и частоте\n",
    "* расчитать значение метрики\n",
    "* Усреднить значение метрики для каждого LINE по всем его донорам\n",
    "* Визуализировать значение метрики для каждого LINE\n",
    "\n",
    "### Ход работы"
   ]
  },
  {
   "cell_type": "markdown",
   "metadata": {},
   "source": [
    "##### ========================\n",
    "#### Вспомогательные функции\n",
    "##### ========================"
   ]
  },
  {
   "cell_type": "code",
   "execution_count": 4,
   "metadata": {},
   "outputs": [],
   "source": [
    "def download_hg19(file_path: str = 'lines_df.csv'):\n",
    "    \"\"\"\n",
    "    Загружаем данные из БД в .csv файл по пути file_path\n",
    "    \"\"\"\n",
    "    if not os.path.exists(file_path):\n",
    "        try:\n",
    "            with connect(host=\"genome-mysql.cse.ucsc.edu\", user=\"genome\", database=\"hg19\") as connection:\n",
    "                db_query = 'select chrom,chromStart,chromEnd,name from nestedRepeats where repClass=\"LINE\" '\n",
    "                with connection.cursor() as cursor:\n",
    "                    cursor.execute(db_query)\n",
    "                    lines = cursor.fetchall()\n",
    "\n",
    "                    df_from_db = pd.DataFrame(lines)\n",
    "                    df_from_db.columns = ['chr', 'start', 'stop', 'name']\n",
    "                    df_from_db.to_csv(file_path, index=False)\n",
    "        except Error as e:\n",
    "            print(e)\n",
    "    else:\n",
    "        print('hg19 data is already downloaded!')\n",
    "\n",
    "\n",
    "def bar_progress(current, total, width=80):\n",
    "    progress_message = \"Downloading: %d%% [%d / %d] MB\" % (current / total * 100, current * 1e-6, total * 1e-6)\n",
    "    sys.stdout.write(\"\\r\" + progress_message)\n",
    "    sys.stdout.flush()      \n",
    "        \n",
    "        \n",
    "def download_cytosines_data(freq_file_path: str = 'filtered_cytosines_freq.tsv.gz',\n",
    "                            coverage_file_path: str = 'filtered_cytosines_coverage.tsv.gz',\n",
    "                            broken_link_for_coverage: bool = False):\n",
    "    \"\"\"\n",
    "    Загружаем таблицы с данными об уровне метилирования и покрытия CpG цитозинов\n",
    "    \n",
    "    ВНИМАНИЕ: на момент тестирования ссылка для скачивания файла filtered_cytosines_coverage не работала, \n",
    "    флаг coverage_broken_link отключает закачку этого файла, как только ссылка заработает - можно включить\n",
    "    \"\"\"\n",
    "    \n",
    "    url_freq = 'https://artyomovlab.wustl.edu/publications/supp_materials/aging/rrbs/filtered_cytosines_freq.tsv.gz'\n",
    "    url_coverage = 'https://artyomovlab.wustl.edu/publications/supp_materials/aging/rrbs/filtered_cytosines_coverage.tsv.gz'\n",
    "    \n",
    "    if not os.path.exists(freq_file_path):\n",
    "        wget.download(url_freq, out=freq_file_path, bar=bar_progress)\n",
    "        print(' Freq data succesfully downloaded!')\n",
    "    else:\n",
    "        print('Freq file is already downloaded!')\n",
    "    \n",
    "    \n",
    "    if not os.path.exists(coverage_file_path):\n",
    "        if not broken_link_for_coverage:\n",
    "            wget.download(url_coverage, out=coverage_file_path, bar=bar_progress)\n",
    "            print(' Coverage data succesfully downloaded!')\n",
    "        else:\n",
    "            print('Sorry, the link is broken :(')\n",
    "    else:\n",
    "        print('Coverage data is already downloaded!')"
   ]
  },
  {
   "cell_type": "markdown",
   "metadata": {},
   "source": [
    "### ===========================\n",
    "### Загрузка необходимых файлов\n",
    "### ==========================="
   ]
  },
  {
   "cell_type": "code",
   "execution_count": 5,
   "metadata": {},
   "outputs": [
    {
     "name": "stdout",
     "output_type": "stream",
     "text": [
      "hg19 data is already downloaded!\n",
      "Downloading: 100% [130 / 130] MB Freq data succesfully downloaded!\n",
      "Downloading: 100% [118 / 118] MB Coverage data succesfully downloaded!\n"
     ]
    }
   ],
   "source": [
    "download_hg19()\n",
    "download_cytosines_data()"
   ]
  },
  {
   "cell_type": "markdown",
   "metadata": {},
   "source": [
    "### =============\n",
    "### Чтение данных\n",
    "### ============="
   ]
  },
  {
   "cell_type": "code",
   "execution_count": 6,
   "metadata": {},
   "outputs": [],
   "source": [
    "LINES_PATH = 'lines_df.csv'\n",
    "COVERAGE_PATH = 'filtered_cytosines_coverage.tsv.gz'\n",
    "FREQ_PATH = 'filtered_cytosines_freq.tsv.gz'\n",
    "\n",
    "lines = pd.read_csv(LINES_PATH)\n",
    "\n",
    "with gzip.open(COVERAGE_PATH) as f:\n",
    "    cov_data = pd.read_csv(f, sep = '\\t')\n",
    "    \n",
    "    # Уменьшаем объем занимаемой памяти, приводя данные к соответствующим типам\n",
    "    numeric_cols = list(cov_data.columns[1:])\n",
    "    for col in numeric_cols:\n",
    "        cov_data[col] = cov_data[col].astype(dtype=pd.Int32Dtype())\n",
    "\n",
    "\n",
    "with gzip.open(FREQ_PATH) as f:\n",
    "    freq_data = pd.read_csv(f, sep = '\\t')\n",
    "    # Уменьшаем объем занимаемой памяти, приводя данные к соответствующим типам\n",
    "    for col in numeric_cols:\n",
    "        freq_data[col] = freq_data[col].astype(np.float16)\n",
    "\n"
   ]
  },
  {
   "cell_type": "markdown",
   "metadata": {},
   "source": [
    "### ====================\n",
    "### Предобработка данных\n",
    "### ====================\n",
    "\n",
    "#### Часть 1"
   ]
  },
  {
   "cell_type": "code",
   "execution_count": 7,
   "metadata": {},
   "outputs": [],
   "source": [
    "# Отделяем хромосому от сайта\n",
    "\n",
    "cov_data['chr'] = cov_data['chrBase'].apply(lambda x: str(x).split('.')[0])\n",
    "cov_data['site'] = cov_data['chrBase'].apply(lambda x: int(str(x).split('.')[1]))\n",
    "cov_data.drop('chrBase', inplace = True, axis=1)\n",
    "\n",
    "freq_data['chr'] = freq_data['chrBase'].apply(lambda x: str(x).split('.')[0])\n",
    "freq_data.drop('chrBase', inplace = True, axis=1)\n",
    "\n",
    "# Оставляем только те LINE, которым соответствуют хромосомы из исходных данных\n",
    "CHROMOSOMES = pd.unique(cov_data['chr'])\n",
    "\n",
    "lines = lines[lines['chr'].isin(CHROMOSOMES)]\n",
    "lines = lines.reset_index(drop=True)"
   ]
  },
  {
   "cell_type": "markdown",
   "metadata": {},
   "source": [
    "#### Часть 2\n",
    "\n",
    "##### Создадим в cov_data столбец с LINE, соответствующим каждому сайту"
   ]
  },
  {
   "cell_type": "code",
   "execution_count": 8,
   "metadata": {
    "scrolled": true
   },
   "outputs": [
    {
     "name": "stdout",
     "output_type": "stream",
     "text": [
      "Preparing data...\n"
     ]
    },
    {
     "data": {
      "application/vnd.jupyter.widget-view+json": {
       "model_id": "583799ee4f55412b9861b2399f7d1ac0",
       "version_major": 2,
       "version_minor": 0
      },
      "text/plain": [
       "  0%|          | 0/25 [00:00<?, ?it/s]"
      ]
     },
     "metadata": {},
     "output_type": "display_data"
    },
    {
     "name": "stdout",
     "output_type": "stream",
     "text": [
      "Searching lines...\n"
     ]
    },
    {
     "data": {
      "application/vnd.jupyter.widget-view+json": {
       "model_id": "1b61bc2406774ab3a98dffaef2113f1d",
       "version_major": 2,
       "version_minor": 0
      },
      "text/plain": [
       "  0%|          | 0/25 [00:00<?, ?it/s]"
      ]
     },
     "metadata": {},
     "output_type": "display_data"
    },
    {
     "name": "stdout",
     "output_type": "stream",
     "text": [
      "Working on chromosome chr1:\n"
     ]
    },
    {
     "data": {
      "application/vnd.jupyter.widget-view+json": {
       "model_id": "af60dda1431943b3b04b53638c2df7a2",
       "version_major": 2,
       "version_minor": 0
      },
      "text/plain": [
       "  0%|          | 0/121 [00:00<?, ?it/s]"
      ]
     },
     "metadata": {},
     "output_type": "display_data"
    },
    {
     "name": "stdout",
     "output_type": "stream",
     "text": [
      "Working on chromosome chr10:\n"
     ]
    },
    {
     "data": {
      "application/vnd.jupyter.widget-view+json": {
       "model_id": "4c86ea7af37647fdb9cb6f9bbb5c7b72",
       "version_major": 2,
       "version_minor": 0
      },
      "text/plain": [
       "  0%|          | 0/64 [00:00<?, ?it/s]"
      ]
     },
     "metadata": {},
     "output_type": "display_data"
    },
    {
     "name": "stdout",
     "output_type": "stream",
     "text": [
      "Working on chromosome chr11:\n"
     ]
    },
    {
     "data": {
      "application/vnd.jupyter.widget-view+json": {
       "model_id": "ad61cd3a04fb40d7ad4348cdc00ed399",
       "version_major": 2,
       "version_minor": 0
      },
      "text/plain": [
       "  0%|          | 0/73 [00:00<?, ?it/s]"
      ]
     },
     "metadata": {},
     "output_type": "display_data"
    },
    {
     "name": "stdout",
     "output_type": "stream",
     "text": [
      "Working on chromosome chr12:\n"
     ]
    },
    {
     "data": {
      "application/vnd.jupyter.widget-view+json": {
       "model_id": "a15db5a967014a20b2bde26421e45b22",
       "version_major": 2,
       "version_minor": 0
      },
      "text/plain": [
       "  0%|          | 0/61 [00:00<?, ?it/s]"
      ]
     },
     "metadata": {},
     "output_type": "display_data"
    },
    {
     "name": "stdout",
     "output_type": "stream",
     "text": [
      "Working on chromosome chr13:\n"
     ]
    },
    {
     "data": {
      "application/vnd.jupyter.widget-view+json": {
       "model_id": "29c632d19a824eddadc499f36f5da410",
       "version_major": 2,
       "version_minor": 0
      },
      "text/plain": [
       "  0%|          | 0/30 [00:00<?, ?it/s]"
      ]
     },
     "metadata": {},
     "output_type": "display_data"
    },
    {
     "name": "stdout",
     "output_type": "stream",
     "text": [
      "Working on chromosome chr14:\n"
     ]
    },
    {
     "data": {
      "application/vnd.jupyter.widget-view+json": {
       "model_id": "41bf21c422874b2bb644debb1ca0afaf",
       "version_major": 2,
       "version_minor": 0
      },
      "text/plain": [
       "  0%|          | 0/43 [00:00<?, ?it/s]"
      ]
     },
     "metadata": {},
     "output_type": "display_data"
    },
    {
     "name": "stdout",
     "output_type": "stream",
     "text": [
      "Working on chromosome chr15:\n"
     ]
    },
    {
     "data": {
      "application/vnd.jupyter.widget-view+json": {
       "model_id": "021e1eba7c1c4f728d64ec574b0822ca",
       "version_major": 2,
       "version_minor": 0
      },
      "text/plain": [
       "  0%|          | 0/41 [00:00<?, ?it/s]"
      ]
     },
     "metadata": {},
     "output_type": "display_data"
    },
    {
     "name": "stdout",
     "output_type": "stream",
     "text": [
      "Working on chromosome chr16:\n"
     ]
    },
    {
     "data": {
      "application/vnd.jupyter.widget-view+json": {
       "model_id": "492b68ca514c4942a3dc55b057954975",
       "version_major": 2,
       "version_minor": 0
      },
      "text/plain": [
       "  0%|          | 0/75 [00:00<?, ?it/s]"
      ]
     },
     "metadata": {},
     "output_type": "display_data"
    },
    {
     "name": "stdout",
     "output_type": "stream",
     "text": [
      "Working on chromosome chr17:\n"
     ]
    },
    {
     "data": {
      "application/vnd.jupyter.widget-view+json": {
       "model_id": "235414b61ff84f34842f9d5bba7ed017",
       "version_major": 2,
       "version_minor": 0
      },
      "text/plain": [
       "  0%|          | 0/86 [00:00<?, ?it/s]"
      ]
     },
     "metadata": {},
     "output_type": "display_data"
    },
    {
     "name": "stdout",
     "output_type": "stream",
     "text": [
      "Working on chromosome chr18:\n"
     ]
    },
    {
     "data": {
      "application/vnd.jupyter.widget-view+json": {
       "model_id": "b90370d248774bf68fa48f3e53cb1c38",
       "version_major": 2,
       "version_minor": 0
      },
      "text/plain": [
       "  0%|          | 0/28 [00:00<?, ?it/s]"
      ]
     },
     "metadata": {},
     "output_type": "display_data"
    },
    {
     "name": "stdout",
     "output_type": "stream",
     "text": [
      "Working on chromosome chr19:\n"
     ]
    },
    {
     "data": {
      "application/vnd.jupyter.widget-view+json": {
       "model_id": "7a760296d2b4475a87d16e76984fa9ee",
       "version_major": 2,
       "version_minor": 0
      },
      "text/plain": [
       "  0%|          | 0/102 [00:00<?, ?it/s]"
      ]
     },
     "metadata": {},
     "output_type": "display_data"
    },
    {
     "name": "stdout",
     "output_type": "stream",
     "text": [
      "Working on chromosome chr2:\n"
     ]
    },
    {
     "data": {
      "application/vnd.jupyter.widget-view+json": {
       "model_id": "503e1cf1df4d47588f82f2ba23e201f7",
       "version_major": 2,
       "version_minor": 0
      },
      "text/plain": [
       "  0%|          | 0/93 [00:00<?, ?it/s]"
      ]
     },
     "metadata": {},
     "output_type": "display_data"
    },
    {
     "name": "stdout",
     "output_type": "stream",
     "text": [
      "Working on chromosome chr20:\n"
     ]
    },
    {
     "data": {
      "application/vnd.jupyter.widget-view+json": {
       "model_id": "e771bfb78f22408cab11352c70b2f862",
       "version_major": 2,
       "version_minor": 0
      },
      "text/plain": [
       "  0%|          | 0/45 [00:00<?, ?it/s]"
      ]
     },
     "metadata": {},
     "output_type": "display_data"
    },
    {
     "name": "stdout",
     "output_type": "stream",
     "text": [
      "Working on chromosome chr21:\n"
     ]
    },
    {
     "data": {
      "application/vnd.jupyter.widget-view+json": {
       "model_id": "70867e80f7694b0f86ca5281e543ea54",
       "version_major": 2,
       "version_minor": 0
      },
      "text/plain": [
       "  0%|          | 0/21 [00:00<?, ?it/s]"
      ]
     },
     "metadata": {},
     "output_type": "display_data"
    },
    {
     "name": "stdout",
     "output_type": "stream",
     "text": [
      "Working on chromosome chr22:\n"
     ]
    },
    {
     "data": {
      "application/vnd.jupyter.widget-view+json": {
       "model_id": "84bebe47e1364e0bb5882164efec1979",
       "version_major": 2,
       "version_minor": 0
      },
      "text/plain": [
       "  0%|          | 0/43 [00:00<?, ?it/s]"
      ]
     },
     "metadata": {},
     "output_type": "display_data"
    },
    {
     "name": "stdout",
     "output_type": "stream",
     "text": [
      "Working on chromosome chr3:\n"
     ]
    },
    {
     "data": {
      "application/vnd.jupyter.widget-view+json": {
       "model_id": "0eea670d171e44598c3b7bf3cdb535a9",
       "version_major": 2,
       "version_minor": 0
      },
      "text/plain": [
       "  0%|          | 0/61 [00:00<?, ?it/s]"
      ]
     },
     "metadata": {},
     "output_type": "display_data"
    },
    {
     "name": "stdout",
     "output_type": "stream",
     "text": [
      "Working on chromosome chr4:\n"
     ]
    },
    {
     "data": {
      "application/vnd.jupyter.widget-view+json": {
       "model_id": "97b6d4c4bdd946dc80df56df9e17f026",
       "version_major": 2,
       "version_minor": 0
      },
      "text/plain": [
       "  0%|          | 0/55 [00:00<?, ?it/s]"
      ]
     },
     "metadata": {},
     "output_type": "display_data"
    },
    {
     "name": "stdout",
     "output_type": "stream",
     "text": [
      "Working on chromosome chr5:\n"
     ]
    },
    {
     "data": {
      "application/vnd.jupyter.widget-view+json": {
       "model_id": "f53a695934dd4b8f945e84e2c08cc28e",
       "version_major": 2,
       "version_minor": 0
      },
      "text/plain": [
       "  0%|          | 0/60 [00:00<?, ?it/s]"
      ]
     },
     "metadata": {},
     "output_type": "display_data"
    },
    {
     "name": "stdout",
     "output_type": "stream",
     "text": [
      "Working on chromosome chr6:\n"
     ]
    },
    {
     "data": {
      "application/vnd.jupyter.widget-view+json": {
       "model_id": "2bce898b26424344902c811afeb9958f",
       "version_major": 2,
       "version_minor": 0
      },
      "text/plain": [
       "  0%|          | 0/60 [00:00<?, ?it/s]"
      ]
     },
     "metadata": {},
     "output_type": "display_data"
    },
    {
     "name": "stdout",
     "output_type": "stream",
     "text": [
      "Working on chromosome chr7:\n"
     ]
    },
    {
     "data": {
      "application/vnd.jupyter.widget-view+json": {
       "model_id": "20b85258be1c44c198a59f4d378ec24a",
       "version_major": 2,
       "version_minor": 0
      },
      "text/plain": [
       "  0%|          | 0/78 [00:00<?, ?it/s]"
      ]
     },
     "metadata": {},
     "output_type": "display_data"
    },
    {
     "name": "stdout",
     "output_type": "stream",
     "text": [
      "Working on chromosome chr8:\n"
     ]
    },
    {
     "data": {
      "application/vnd.jupyter.widget-view+json": {
       "model_id": "3336517fbf634b518856753f5ceb4c72",
       "version_major": 2,
       "version_minor": 0
      },
      "text/plain": [
       "  0%|          | 0/56 [00:00<?, ?it/s]"
      ]
     },
     "metadata": {},
     "output_type": "display_data"
    },
    {
     "name": "stdout",
     "output_type": "stream",
     "text": [
      "Working on chromosome chr9:\n"
     ]
    },
    {
     "data": {
      "application/vnd.jupyter.widget-view+json": {
       "model_id": "cd6232960c704bc1bf8ea1368338a41f",
       "version_major": 2,
       "version_minor": 0
      },
      "text/plain": [
       "  0%|          | 0/65 [00:00<?, ?it/s]"
      ]
     },
     "metadata": {},
     "output_type": "display_data"
    },
    {
     "name": "stdout",
     "output_type": "stream",
     "text": [
      "Working on chromosome chrM:\n"
     ]
    },
    {
     "data": {
      "application/vnd.jupyter.widget-view+json": {
       "model_id": "45ebc5a4f8ca4f8b853fc3c6d3922bdc",
       "version_major": 2,
       "version_minor": 0
      },
      "text/plain": [
       "0it [00:00, ?it/s]"
      ]
     },
     "metadata": {},
     "output_type": "display_data"
    },
    {
     "name": "stdout",
     "output_type": "stream",
     "text": [
      "Working on chromosome chrX:\n"
     ]
    },
    {
     "data": {
      "application/vnd.jupyter.widget-view+json": {
       "model_id": "5f849b6bcc2f4813b65d98d81a20df83",
       "version_major": 2,
       "version_minor": 0
      },
      "text/plain": [
       "  0%|          | 0/29 [00:00<?, ?it/s]"
      ]
     },
     "metadata": {},
     "output_type": "display_data"
    },
    {
     "name": "stdout",
     "output_type": "stream",
     "text": [
      "Working on chromosome chrY:\n"
     ]
    },
    {
     "data": {
      "application/vnd.jupyter.widget-view+json": {
       "model_id": "52bd49d430c7420e8a50294e0d296353",
       "version_major": 2,
       "version_minor": 0
      },
      "text/plain": [
       "  0%|          | 0/2 [00:00<?, ?it/s]"
      ]
     },
     "metadata": {},
     "output_type": "display_data"
    },
    {
     "name": "stdout",
     "output_type": "stream",
     "text": [
      "Adding new LINE column to cov_data...\n"
     ]
    },
    {
     "data": {
      "application/vnd.jupyter.widget-view+json": {
       "model_id": "de7d0239b83743689478e1bec2a83fc7",
       "version_major": 2,
       "version_minor": 0
      },
      "text/plain": [
       "  0%|          | 0/25 [00:00<?, ?it/s]"
      ]
     },
     "metadata": {},
     "output_type": "display_data"
    },
    {
     "name": "stderr",
     "output_type": "stream",
     "text": [
      "<ipython-input-8-dfa665cc24ae>:48: SettingWithCopyWarning: \n",
      "A value is trying to be set on a copy of a slice from a DataFrame\n",
      "\n",
      "See the caveats in the documentation: https://pandas.pydata.org/pandas-docs/stable/user_guide/indexing.html#returning-a-view-versus-a-copy\n",
      "  cov_data['LINE'][cov_index] = lines['name'][lines_index]\n"
     ]
    },
    {
     "name": "stdout",
     "output_type": "stream",
     "text": [
      "Data is prepared!\n"
     ]
    }
   ],
   "source": [
    "# Определим вспомогательный словарь, который будем использовать для быстрого поиска:\n",
    "\n",
    "print('Preparing data...')\n",
    "\n",
    "sl_dict = {c: {'sites': np.array(cov_data[cov_data['chr']==c]['site'])[:, np.newaxis],\n",
    "               'starts': np.array(lines[lines['chr']==c]['start'])[np.newaxis, :],\n",
    "               'stops': np.array(lines[lines['chr']==c]['stop'])[np.newaxis, :],\n",
    "               'sites_inds': np.array(cov_data[cov_data['chr']==c].index),\n",
    "               'lines_inds': np.array(lines[lines['chr']==c].index)} for c in tqdm(CHROMOSOMES)}\n",
    "\n",
    "# Для каждой хромосомы выполним векторизованный поиск соответствия между сайтами и LINE\n",
    "# Поиск ведется по мини-батчам для оптимального использования оперативной памяти\n",
    "\n",
    "BATCH_SIZE = 2000\n",
    "\n",
    "lines_for_chromes = dict()\n",
    "\n",
    "print('Searching lines...')\n",
    "for chrome in tqdm(sl_dict):\n",
    "    n_batches = ceil(len(sl_dict[chrome]['sites']) / BATCH_SIZE)\n",
    "    lines_for_sites = []\n",
    "    print(f'Working on chromosome {chrome}:')\n",
    "    for i in tqdm(range(n_batches - 1)):\n",
    "        filtered_by_sites = (sl_dict[chrome]['sites'][i * BATCH_SIZE: (i + 1) * BATCH_SIZE] >= sl_dict[chrome]['starts']) & (sl_dict[chrome]['sites'][i * BATCH_SIZE: (i + 1) * BATCH_SIZE] < sl_dict[chrome]['stops'])\n",
    "        batch_inds = np.argwhere(filtered_by_sites == True)\n",
    "        \n",
    "        # Переходим от относительной индексации батча к абсолютной (как в исходных датафреймах)\n",
    "        batch_inds[:, 0] += i * BATCH_SIZE\n",
    "        batch_inds[:, 0] = sl_dict[chrome]['sites_inds'][batch_inds[:, 0]]\n",
    "        batch_inds[:, 1] = sl_dict[chrome]['lines_inds'][batch_inds[:, 1]]\n",
    "        \n",
    "        lines_for_sites.append(batch_inds)\n",
    "        \n",
    "    if lines_for_sites:\n",
    "        lines_for_sites = np.vstack(lines_for_sites)\n",
    "        lines_for_chromes[chrome] = lines_for_sites\n",
    "    else:\n",
    "        lines_for_chromes[chrome] = []\n",
    "        \n",
    "\n",
    "print('Adding new LINE column to cov_data...')\n",
    "\n",
    "cov_data['LINE'] = -1  # так обозначим сайты, которые не попали ни в один LINE\n",
    "for chrome in tqdm(CHROMOSOMES):\n",
    "    if len(lines_for_chromes[chrome]) > 0:\n",
    "        cov_index = lines_for_chromes[chrome][:, 0]\n",
    "        lines_index = lines_for_chromes[chrome][:, 1]\n",
    "        cov_data['LINE'][cov_index] = lines['name'][lines_index]\n",
    "        \n",
    "print('Data is prepared!')"
   ]
  },
  {
   "cell_type": "markdown",
   "metadata": {},
   "source": [
    "### ==============\n",
    "### Расчёт метрики\n",
    "### =============="
   ]
  },
  {
   "cell_type": "code",
   "execution_count": 9,
   "metadata": {},
   "outputs": [],
   "source": [
    "line_counts = cov_data['LINE'].value_counts()\n",
    "lines_with_more_4_sites = list(line_counts[line_counts >= 4].index)\n",
    "\n",
    "\n",
    "DONOR_COLUMNS = ['OD10', 'OD11', 'OD12', 'OD13', 'OD14', 'OD15', 'OD16', 'OD17', 'OD18',\n",
    "                 'OD19', 'OD1', 'OD20', 'OD2', 'OD3', 'OD4', 'OD5', 'OD6', 'OD7', 'OD8',\n",
    "                 'OD9', 'YD10', 'YD11', 'YD12', 'YD14', 'YD15', 'YD16', 'YD17', 'YD18',\n",
    "                 'YD19', 'YD1', 'YD20', 'YD21', 'YD2', 'YD3', 'YD4', 'YD5', 'YD6', 'YD7',\n",
    "                 'YD8', 'YD9']\n",
    "\n",
    "# Строим сводную таблицу: LINE / DONOR, агрегируем по сумме покрытий\n",
    "# Значения этой таблицы будут в знаменателе нашей метрики\n",
    "donors_cov_by_lines = pd.pivot_table(cov_data[cov_data['LINE'] != -1], values=DONOR_COLUMNS, index='LINE', aggfunc=np.sum)\n",
    "\n",
    "# Строим сводную таблицу: LINE / DONOR, агрегируем по сумме взвешенных на частоты покрытий\n",
    "# Значения этой таблицы будут в числителе нашей метрики\n",
    "multiplied_freq_cov = freq_data[DONOR_COLUMNS] * cov_data[DONOR_COLUMNS] / 100\n",
    "multiplied_freq_cov['LINE'] = cov_data['LINE']\n",
    "multiplied_donors_by_lines = pd.pivot_table(multiplied_freq_cov[multiplied_freq_cov['LINE'] != -1], values=DONOR_COLUMNS, index='LINE', aggfunc=np.sum)\n",
    "\n",
    "# Итоговая метрика\n",
    "metrics = multiplied_donors_by_lines / donors_cov_by_lines"
   ]
  },
  {
   "cell_type": "code",
   "execution_count": 10,
   "metadata": {},
   "outputs": [
    {
     "data": {
      "text/html": [
       "<div>\n",
       "<style scoped>\n",
       "    .dataframe tbody tr th:only-of-type {\n",
       "        vertical-align: middle;\n",
       "    }\n",
       "\n",
       "    .dataframe tbody tr th {\n",
       "        vertical-align: top;\n",
       "    }\n",
       "\n",
       "    .dataframe thead th {\n",
       "        text-align: right;\n",
       "    }\n",
       "</style>\n",
       "<table border=\"1\" class=\"dataframe\">\n",
       "  <thead>\n",
       "    <tr style=\"text-align: right;\">\n",
       "      <th></th>\n",
       "      <th>OD1</th>\n",
       "      <th>OD10</th>\n",
       "      <th>OD11</th>\n",
       "      <th>OD12</th>\n",
       "      <th>OD13</th>\n",
       "      <th>OD14</th>\n",
       "      <th>OD15</th>\n",
       "      <th>OD16</th>\n",
       "      <th>OD17</th>\n",
       "      <th>OD18</th>\n",
       "      <th>...</th>\n",
       "      <th>YD2</th>\n",
       "      <th>YD20</th>\n",
       "      <th>YD21</th>\n",
       "      <th>YD3</th>\n",
       "      <th>YD4</th>\n",
       "      <th>YD5</th>\n",
       "      <th>YD6</th>\n",
       "      <th>YD7</th>\n",
       "      <th>YD8</th>\n",
       "      <th>YD9</th>\n",
       "    </tr>\n",
       "    <tr>\n",
       "      <th>LINE</th>\n",
       "      <th></th>\n",
       "      <th></th>\n",
       "      <th></th>\n",
       "      <th></th>\n",
       "      <th></th>\n",
       "      <th></th>\n",
       "      <th></th>\n",
       "      <th></th>\n",
       "      <th></th>\n",
       "      <th></th>\n",
       "      <th></th>\n",
       "      <th></th>\n",
       "      <th></th>\n",
       "      <th></th>\n",
       "      <th></th>\n",
       "      <th></th>\n",
       "      <th></th>\n",
       "      <th></th>\n",
       "      <th></th>\n",
       "      <th></th>\n",
       "      <th></th>\n",
       "    </tr>\n",
       "  </thead>\n",
       "  <tbody>\n",
       "    <tr>\n",
       "      <th>CR1_Mam</th>\n",
       "      <td>0.845388</td>\n",
       "      <td>0.880613</td>\n",
       "      <td>0.897176</td>\n",
       "      <td>0.895855</td>\n",
       "      <td>0.879373</td>\n",
       "      <td>0.888439</td>\n",
       "      <td>0.846110</td>\n",
       "      <td>0.853989</td>\n",
       "      <td>0.876037</td>\n",
       "      <td>0.881863</td>\n",
       "      <td>...</td>\n",
       "      <td>0.860958</td>\n",
       "      <td>0.908289</td>\n",
       "      <td>0.866508</td>\n",
       "      <td>0.848731</td>\n",
       "      <td>0.870281</td>\n",
       "      <td>0.893148</td>\n",
       "      <td>0.867420</td>\n",
       "      <td>0.876184</td>\n",
       "      <td>0.872924</td>\n",
       "      <td>0.857788</td>\n",
       "    </tr>\n",
       "    <tr>\n",
       "      <th>HAL1</th>\n",
       "      <td>0.849052</td>\n",
       "      <td>0.848448</td>\n",
       "      <td>0.869990</td>\n",
       "      <td>0.862601</td>\n",
       "      <td>0.842464</td>\n",
       "      <td>0.850615</td>\n",
       "      <td>0.842191</td>\n",
       "      <td>0.858584</td>\n",
       "      <td>0.847366</td>\n",
       "      <td>0.852020</td>\n",
       "      <td>...</td>\n",
       "      <td>0.841188</td>\n",
       "      <td>0.856818</td>\n",
       "      <td>0.848229</td>\n",
       "      <td>0.854840</td>\n",
       "      <td>0.848760</td>\n",
       "      <td>0.852903</td>\n",
       "      <td>0.854247</td>\n",
       "      <td>0.853969</td>\n",
       "      <td>0.848765</td>\n",
       "      <td>0.848970</td>\n",
       "    </tr>\n",
       "    <tr>\n",
       "      <th>HAL1-2a_MD</th>\n",
       "      <td>0.875000</td>\n",
       "      <td>0.950000</td>\n",
       "      <td>0.986875</td>\n",
       "      <td>1.000000</td>\n",
       "      <td>0.937500</td>\n",
       "      <td>1.000000</td>\n",
       "      <td>0.921250</td>\n",
       "      <td>0.965625</td>\n",
       "      <td>1.000000</td>\n",
       "      <td>0.895000</td>\n",
       "      <td>...</td>\n",
       "      <td>0.944375</td>\n",
       "      <td>0.941250</td>\n",
       "      <td>0.979375</td>\n",
       "      <td>0.970000</td>\n",
       "      <td>0.979375</td>\n",
       "      <td>0.961250</td>\n",
       "      <td>0.976250</td>\n",
       "      <td>0.978750</td>\n",
       "      <td>0.978750</td>\n",
       "      <td>0.986875</td>\n",
       "    </tr>\n",
       "    <tr>\n",
       "      <th>HAL1-3A_ME</th>\n",
       "      <td>0.934841</td>\n",
       "      <td>0.934289</td>\n",
       "      <td>0.915672</td>\n",
       "      <td>0.964956</td>\n",
       "      <td>0.908297</td>\n",
       "      <td>0.970368</td>\n",
       "      <td>0.954778</td>\n",
       "      <td>0.965764</td>\n",
       "      <td>0.932546</td>\n",
       "      <td>0.939168</td>\n",
       "      <td>...</td>\n",
       "      <td>0.917006</td>\n",
       "      <td>0.959027</td>\n",
       "      <td>0.923157</td>\n",
       "      <td>0.949051</td>\n",
       "      <td>0.929818</td>\n",
       "      <td>0.938050</td>\n",
       "      <td>0.916429</td>\n",
       "      <td>0.913598</td>\n",
       "      <td>0.937360</td>\n",
       "      <td>0.933807</td>\n",
       "    </tr>\n",
       "    <tr>\n",
       "      <th>HAL1b</th>\n",
       "      <td>0.746839</td>\n",
       "      <td>0.815397</td>\n",
       "      <td>0.789905</td>\n",
       "      <td>0.786384</td>\n",
       "      <td>0.782143</td>\n",
       "      <td>0.786019</td>\n",
       "      <td>0.808759</td>\n",
       "      <td>0.827028</td>\n",
       "      <td>0.774959</td>\n",
       "      <td>0.778598</td>\n",
       "      <td>...</td>\n",
       "      <td>0.775557</td>\n",
       "      <td>0.811926</td>\n",
       "      <td>0.741093</td>\n",
       "      <td>0.762000</td>\n",
       "      <td>0.800903</td>\n",
       "      <td>0.780444</td>\n",
       "      <td>0.802701</td>\n",
       "      <td>0.811261</td>\n",
       "      <td>0.796457</td>\n",
       "      <td>0.775643</td>\n",
       "    </tr>\n",
       "    <tr>\n",
       "      <th>...</th>\n",
       "      <td>...</td>\n",
       "      <td>...</td>\n",
       "      <td>...</td>\n",
       "      <td>...</td>\n",
       "      <td>...</td>\n",
       "      <td>...</td>\n",
       "      <td>...</td>\n",
       "      <td>...</td>\n",
       "      <td>...</td>\n",
       "      <td>...</td>\n",
       "      <td>...</td>\n",
       "      <td>...</td>\n",
       "      <td>...</td>\n",
       "      <td>...</td>\n",
       "      <td>...</td>\n",
       "      <td>...</td>\n",
       "      <td>...</td>\n",
       "      <td>...</td>\n",
       "      <td>...</td>\n",
       "      <td>...</td>\n",
       "      <td>...</td>\n",
       "    </tr>\n",
       "    <tr>\n",
       "      <th>X3_LINE</th>\n",
       "      <td>0.962235</td>\n",
       "      <td>1.000000</td>\n",
       "      <td>1.000000</td>\n",
       "      <td>1.000000</td>\n",
       "      <td>1.000000</td>\n",
       "      <td>0.942929</td>\n",
       "      <td>0.944375</td>\n",
       "      <td>0.931676</td>\n",
       "      <td>0.934837</td>\n",
       "      <td>1.000000</td>\n",
       "      <td>...</td>\n",
       "      <td>0.943278</td>\n",
       "      <td>0.956467</td>\n",
       "      <td>0.580575</td>\n",
       "      <td>1.000000</td>\n",
       "      <td>0.987179</td>\n",
       "      <td>0.881318</td>\n",
       "      <td>0.907856</td>\n",
       "      <td>0.882381</td>\n",
       "      <td>1.000000</td>\n",
       "      <td>0.916667</td>\n",
       "    </tr>\n",
       "    <tr>\n",
       "      <th>X5B_LINE</th>\n",
       "      <td>1.000000</td>\n",
       "      <td>0.937500</td>\n",
       "      <td>1.000000</td>\n",
       "      <td>1.000000</td>\n",
       "      <td>1.000000</td>\n",
       "      <td>0.964375</td>\n",
       "      <td>1.000000</td>\n",
       "      <td>1.000000</td>\n",
       "      <td>1.000000</td>\n",
       "      <td>1.000000</td>\n",
       "      <td>...</td>\n",
       "      <td>1.000000</td>\n",
       "      <td>0.976250</td>\n",
       "      <td>1.000000</td>\n",
       "      <td>1.000000</td>\n",
       "      <td>0.900000</td>\n",
       "      <td>1.000000</td>\n",
       "      <td>1.000000</td>\n",
       "      <td>1.000000</td>\n",
       "      <td>1.000000</td>\n",
       "      <td>0.950000</td>\n",
       "    </tr>\n",
       "    <tr>\n",
       "      <th>X6B_LINE</th>\n",
       "      <td>0.946250</td>\n",
       "      <td>0.990711</td>\n",
       "      <td>0.977639</td>\n",
       "      <td>0.980092</td>\n",
       "      <td>0.955937</td>\n",
       "      <td>0.968563</td>\n",
       "      <td>0.954932</td>\n",
       "      <td>0.988750</td>\n",
       "      <td>1.000000</td>\n",
       "      <td>0.955485</td>\n",
       "      <td>...</td>\n",
       "      <td>0.917705</td>\n",
       "      <td>0.986875</td>\n",
       "      <td>0.940712</td>\n",
       "      <td>0.952500</td>\n",
       "      <td>0.951883</td>\n",
       "      <td>0.971563</td>\n",
       "      <td>0.913619</td>\n",
       "      <td>0.933901</td>\n",
       "      <td>0.978842</td>\n",
       "      <td>0.966261</td>\n",
       "    </tr>\n",
       "    <tr>\n",
       "      <th>X7A_LINE</th>\n",
       "      <td>0.005516</td>\n",
       "      <td>0.003012</td>\n",
       "      <td>0.000000</td>\n",
       "      <td>0.000000</td>\n",
       "      <td>0.011394</td>\n",
       "      <td>0.000000</td>\n",
       "      <td>0.000000</td>\n",
       "      <td>0.011957</td>\n",
       "      <td>0.002545</td>\n",
       "      <td>0.000000</td>\n",
       "      <td>...</td>\n",
       "      <td>0.014706</td>\n",
       "      <td>0.000000</td>\n",
       "      <td>0.000000</td>\n",
       "      <td>0.001832</td>\n",
       "      <td>0.009419</td>\n",
       "      <td>0.001569</td>\n",
       "      <td>0.001721</td>\n",
       "      <td>0.001727</td>\n",
       "      <td>0.006668</td>\n",
       "      <td>0.031133</td>\n",
       "    </tr>\n",
       "    <tr>\n",
       "      <th>X7B_LINE</th>\n",
       "      <td>0.821733</td>\n",
       "      <td>0.971916</td>\n",
       "      <td>0.511635</td>\n",
       "      <td>0.486117</td>\n",
       "      <td>0.948486</td>\n",
       "      <td>0.965876</td>\n",
       "      <td>0.553376</td>\n",
       "      <td>0.569184</td>\n",
       "      <td>0.734266</td>\n",
       "      <td>0.971831</td>\n",
       "      <td>...</td>\n",
       "      <td>0.970223</td>\n",
       "      <td>0.518472</td>\n",
       "      <td>0.937559</td>\n",
       "      <td>0.924906</td>\n",
       "      <td>0.561352</td>\n",
       "      <td>0.694049</td>\n",
       "      <td>0.574293</td>\n",
       "      <td>0.612188</td>\n",
       "      <td>0.579014</td>\n",
       "      <td>0.608137</td>\n",
       "    </tr>\n",
       "  </tbody>\n",
       "</table>\n",
       "<p>137 rows × 40 columns</p>\n",
       "</div>"
      ],
      "text/plain": [
       "                 OD1      OD10      OD11      OD12      OD13      OD14  \\\n",
       "LINE                                                                     \n",
       "CR1_Mam     0.845388  0.880613  0.897176  0.895855  0.879373  0.888439   \n",
       "HAL1        0.849052  0.848448  0.869990  0.862601  0.842464  0.850615   \n",
       "HAL1-2a_MD  0.875000  0.950000  0.986875  1.000000  0.937500  1.000000   \n",
       "HAL1-3A_ME  0.934841  0.934289  0.915672  0.964956  0.908297  0.970368   \n",
       "HAL1b       0.746839  0.815397  0.789905  0.786384  0.782143  0.786019   \n",
       "...              ...       ...       ...       ...       ...       ...   \n",
       "X3_LINE     0.962235  1.000000  1.000000  1.000000  1.000000  0.942929   \n",
       "X5B_LINE    1.000000  0.937500  1.000000  1.000000  1.000000  0.964375   \n",
       "X6B_LINE    0.946250  0.990711  0.977639  0.980092  0.955937  0.968563   \n",
       "X7A_LINE    0.005516  0.003012  0.000000  0.000000  0.011394  0.000000   \n",
       "X7B_LINE    0.821733  0.971916  0.511635  0.486117  0.948486  0.965876   \n",
       "\n",
       "                OD15      OD16      OD17      OD18  ...       YD2      YD20  \\\n",
       "LINE                                                ...                       \n",
       "CR1_Mam     0.846110  0.853989  0.876037  0.881863  ...  0.860958  0.908289   \n",
       "HAL1        0.842191  0.858584  0.847366  0.852020  ...  0.841188  0.856818   \n",
       "HAL1-2a_MD  0.921250  0.965625  1.000000  0.895000  ...  0.944375  0.941250   \n",
       "HAL1-3A_ME  0.954778  0.965764  0.932546  0.939168  ...  0.917006  0.959027   \n",
       "HAL1b       0.808759  0.827028  0.774959  0.778598  ...  0.775557  0.811926   \n",
       "...              ...       ...       ...       ...  ...       ...       ...   \n",
       "X3_LINE     0.944375  0.931676  0.934837  1.000000  ...  0.943278  0.956467   \n",
       "X5B_LINE    1.000000  1.000000  1.000000  1.000000  ...  1.000000  0.976250   \n",
       "X6B_LINE    0.954932  0.988750  1.000000  0.955485  ...  0.917705  0.986875   \n",
       "X7A_LINE    0.000000  0.011957  0.002545  0.000000  ...  0.014706  0.000000   \n",
       "X7B_LINE    0.553376  0.569184  0.734266  0.971831  ...  0.970223  0.518472   \n",
       "\n",
       "                YD21       YD3       YD4       YD5       YD6       YD7  \\\n",
       "LINE                                                                     \n",
       "CR1_Mam     0.866508  0.848731  0.870281  0.893148  0.867420  0.876184   \n",
       "HAL1        0.848229  0.854840  0.848760  0.852903  0.854247  0.853969   \n",
       "HAL1-2a_MD  0.979375  0.970000  0.979375  0.961250  0.976250  0.978750   \n",
       "HAL1-3A_ME  0.923157  0.949051  0.929818  0.938050  0.916429  0.913598   \n",
       "HAL1b       0.741093  0.762000  0.800903  0.780444  0.802701  0.811261   \n",
       "...              ...       ...       ...       ...       ...       ...   \n",
       "X3_LINE     0.580575  1.000000  0.987179  0.881318  0.907856  0.882381   \n",
       "X5B_LINE    1.000000  1.000000  0.900000  1.000000  1.000000  1.000000   \n",
       "X6B_LINE    0.940712  0.952500  0.951883  0.971563  0.913619  0.933901   \n",
       "X7A_LINE    0.000000  0.001832  0.009419  0.001569  0.001721  0.001727   \n",
       "X7B_LINE    0.937559  0.924906  0.561352  0.694049  0.574293  0.612188   \n",
       "\n",
       "                 YD8       YD9  \n",
       "LINE                            \n",
       "CR1_Mam     0.872924  0.857788  \n",
       "HAL1        0.848765  0.848970  \n",
       "HAL1-2a_MD  0.978750  0.986875  \n",
       "HAL1-3A_ME  0.937360  0.933807  \n",
       "HAL1b       0.796457  0.775643  \n",
       "...              ...       ...  \n",
       "X3_LINE     1.000000  0.916667  \n",
       "X5B_LINE    1.000000  0.950000  \n",
       "X6B_LINE    0.978842  0.966261  \n",
       "X7A_LINE    0.006668  0.031133  \n",
       "X7B_LINE    0.579014  0.608137  \n",
       "\n",
       "[137 rows x 40 columns]"
      ]
     },
     "execution_count": 10,
     "metadata": {},
     "output_type": "execute_result"
    }
   ],
   "source": [
    "metrics"
   ]
  },
  {
   "cell_type": "code",
   "execution_count": 11,
   "metadata": {},
   "outputs": [],
   "source": [
    "# Сохранение метрики в файл\n",
    "\n",
    "metrics.to_csv(r'Metrics.csv')\n",
    "# file = pd.read_csv('Metrics.csv').set_index('LINE')\n",
    "# file"
   ]
  },
  {
   "cell_type": "markdown",
   "metadata": {},
   "source": [
    "### ===================\n",
    "### Визуализация метрики\n",
    "### ==================="
   ]
  },
  {
   "cell_type": "code",
   "execution_count": 12,
   "metadata": {},
   "outputs": [],
   "source": [
    "means_sorted = metrics.mean(axis=1).sort_values()\n",
    "\n",
    "metr = np.array(means_sorted)\n",
    "line_names = list(means_sorted.index)"
   ]
  },
  {
   "cell_type": "code",
   "execution_count": 13,
   "metadata": {},
   "outputs": [
    {
     "data": {
      "image/png": "[encoded data removed]",
      "text/plain": [
       "<Figure size 1440x720 with 1 Axes>"
      ]
     },
     "metadata": {
      "needs_background": "light"
     },
     "output_type": "display_data"
    }
   ],
   "source": [
    "plt.figure(figsize=(20,10))\n",
    "means_sorted.plot(color='darkorange')\n",
    "plt.scatter(x=line_names, y=metr, color='red')\n",
    "plt.ylabel('значение метрики')\n",
    "plt.show()"
   ]
  },
  {
   "cell_type": "code",
   "execution_count": 14,
   "metadata": {},
   "outputs": [
    {
     "data": {
      "image/png": "[encoded data removed]",
      "text/plain": [
       "<Figure size 1080x2160 with 1 Axes>"
      ]
     },
     "metadata": {
      "needs_background": "light"
     },
     "output_type": "display_data"
    }
   ],
   "source": [
    "y_pos = np.arange(len(line_names))\n",
    "\n",
    "fig, ax = plt.subplots(figsize=(15, 30))\n",
    "ax.barh(y_pos, metr, align='center', color='darkblue')\n",
    "ax.set_yticks(y_pos)\n",
    "ax.set_yticklabels(line_names)\n",
    "ax.invert_yaxis()  # От меньших к большим\n",
    "ax.set_xlabel('Значение метрики')\n",
    "ax.set_title('Распределение метрики по разным LINE')\n",
    "plt.show()"
   ]
  },
  {
   "cell_type": "code",
   "execution_count": null,
   "metadata": {},
   "outputs": [],
   "source": []
  }
 ],
 "metadata": {
  "kernelspec": {
   "display_name": "Python 3",
   "language": "python",
   "name": "python3"
  },
  "language_info": {
   "codemirror_mode": {
    "name": "ipython",
    "version": 3
   },
   "file_extension": ".py",
   "mimetype": "text/x-python",
   "name": "python",
   "nbconvert_exporter": "python",
   "pygments_lexer": "ipython3",
   "version": "3.8.3"
  }
 },
 "nbformat": 4,
 "nbformat_minor": 4
}
